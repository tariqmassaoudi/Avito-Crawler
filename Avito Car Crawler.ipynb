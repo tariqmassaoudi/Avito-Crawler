{
 "cells": [
  {
   "cell_type": "markdown",
   "metadata": {},
   "source": [
    "## This script will extract data off avito for further analysis"
   ]
  },
  {
   "cell_type": "code",
   "execution_count": 133,
   "metadata": {},
   "outputs": [],
   "source": [
    "from bs4 import BeautifulSoup\n",
    "import requests\n",
    "import pandas as pd\n",
    "from IPython.display import clear_output"
   ]
  },
  {
   "cell_type": "code",
   "execution_count": 134,
   "metadata": {},
   "outputs": [],
   "source": [
    "#this functions takes an avito car page and extracts data from it\n",
    "def getInternalData(link):\n",
    "    data={}\n",
    "    page=requests.get(link)\n",
    "    print(link)\n",
    "    soup = BeautifulSoup(page.content,\"html.parser\")\n",
    "    annonceText=soup.find(\"p\",{\"style\":\"word-wrap: break-word;\"}).text\n",
    "    dataPanel=soup.find(\"aside\",{\"class\":\"panel panel-body panel-info\"})\n",
    "    dataList=dataPanel.find(\"ul\")\n",
    "    for li in dataList.find_all(\"li\"):\n",
    "        if li.find(\"strong\")!=None:\n",
    "            title=li.find(\"strong\").text\n",
    "            \n",
    "            if li.find(\"a\")==None:\n",
    "                \n",
    "                value=li.find(\"h2\").text.split(\"\\n\")[1]\n",
    "            else:\n",
    "                value=li.find(\"a\").text\n",
    "            data[title]=value\n",
    "        else:\n",
    "            pass\n",
    "       \n",
    "    return data\n",
    "    \n",
    "    "
   ]
  },
  {
   "cell_type": "code",
   "execution_count": 135,
   "metadata": {},
   "outputs": [
    {
     "name": "stdout",
     "output_type": "stream",
     "text": [
      "All Done :3\n"
     ]
    }
   ],
   "source": [
    "#setup how many pages you want using pageDeepness\n",
    "pageDeepness=2\n",
    "\n",
    "\n",
    "\n",
    "totalItems=pageDeepness*35 \n",
    "currentPage=1\n",
    "data=[]\n",
    "for i in range(1,pageDeepness+1):\n",
    "    clear_output()\n",
    "    print(\"--------------Currently processing page \"+str(i)+\" -------------------------------------------------------\")\n",
    "    \n",
    "    \n",
    "    startItem=(i-1)*35 +1\n",
    "    endItem=startItem+35\n",
    "    page=requests.get(\"https://www.avito.ma/fr/maroc/voitures-à_vendre?o=\"+str(i))\n",
    "    soup = BeautifulSoup(page.content,\"html.parser\")\n",
    "    for j in range(startItem,endItem):\n",
    "        idItem=\"li-item-\"+str(j)+\" \"\n",
    "        item=soup.find(\"div\", {\"id\": idItem})\n",
    "        name=item.find(\"h2\").find(\"a\").text\n",
    "        price=item.find(\"span\",{\"class\":\"price_value\"}).text\n",
    "        city=item.find(\"span\",{\"class\":\"item-info-extra fs14\"}).find(\"a\").text\n",
    "        proOrNot=False if item.find(\"span\",{\"class\":\"item-info-extra fs14\"}).find(\"strong\")==None else True\n",
    "        link=item.find(\"h2\").find(\"a\",href=True)['href']\n",
    "        dataPoint=getInternalData(link)\n",
    "        dataPoint[\"name\"]=name\n",
    "        dataPoint[\"city\"]=city\n",
    "        dataPoint[\"proOrNot\"]=proOrNot\n",
    "        data.append(dataPoint)\n",
    "        print(\"progress: \"+str(j/totalItems)+\"%\")\n",
    "\n",
    "clear_output()       \n",
    "print(\"All Done :3\")\n",
    "        \n",
    "    \n",
    "\n",
    "\n",
    "    \n",
    "\n",
    "    \n",
    "    "
   ]
  },
  {
   "cell_type": "code",
   "execution_count": 111,
   "metadata": {},
   "outputs": [
    {
     "data": {
      "text/html": [
       "<div>\n",
       "<style scoped>\n",
       "    .dataframe tbody tr th:only-of-type {\n",
       "        vertical-align: middle;\n",
       "    }\n",
       "\n",
       "    .dataframe tbody tr th {\n",
       "        vertical-align: top;\n",
       "    }\n",
       "\n",
       "    .dataframe thead th {\n",
       "        text-align: right;\n",
       "    }\n",
       "</style>\n",
       "<table border=\"1\" class=\"dataframe\">\n",
       "  <thead>\n",
       "    <tr style=\"text-align: right;\">\n",
       "      <th></th>\n",
       "      <th>Année-Modèle:</th>\n",
       "      <th>Kilométrage:</th>\n",
       "      <th>Marque:</th>\n",
       "      <th>Modèle:</th>\n",
       "      <th>Puissance fiscale:</th>\n",
       "      <th>Secteur:</th>\n",
       "      <th>Type de carburant:</th>\n",
       "      <th>Type:</th>\n",
       "      <th>city</th>\n",
       "      <th>name</th>\n",
       "      <th>proOrNot</th>\n",
       "    </tr>\n",
       "  </thead>\n",
       "  <tbody>\n",
       "    <tr>\n",
       "      <th>0</th>\n",
       "      <td>2009</td>\n",
       "      <td>200 000 - 249 999</td>\n",
       "      <td>Peugeot</td>\n",
       "      <td>308</td>\n",
       "      <td>6 CV</td>\n",
       "      <td>NaN</td>\n",
       "      <td>Diesel</td>\n",
       "      <td>Voitures, Offre</td>\n",
       "      <td>Casablanca</td>\n",
       "      <td>Peugeot 308 -2009</td>\n",
       "      <td>False</td>\n",
       "    </tr>\n",
       "    <tr>\n",
       "      <th>1</th>\n",
       "      <td>2017</td>\n",
       "      <td>35 000 - 39 999</td>\n",
       "      <td>Audi</td>\n",
       "      <td>RS3</td>\n",
       "      <td>11 CV</td>\n",
       "      <td>maarif</td>\n",
       "      <td>Essence</td>\n",
       "      <td>Voitures, Offre</td>\n",
       "      <td>Casablanca</td>\n",
       "      <td>Audi RS3 -2017</td>\n",
       "      <td>True</td>\n",
       "    </tr>\n",
       "    <tr>\n",
       "      <th>2</th>\n",
       "      <td>2014</td>\n",
       "      <td>0 - 4 999</td>\n",
       "      <td>Hyundai</td>\n",
       "      <td>Santa Fe</td>\n",
       "      <td>5 CV</td>\n",
       "      <td>centre</td>\n",
       "      <td>Diesel</td>\n",
       "      <td>Voitures, Offre</td>\n",
       "      <td>El Jadida</td>\n",
       "      <td>Hyundai Santa Fe Diesel -2014</td>\n",
       "      <td>True</td>\n",
       "    </tr>\n",
       "    <tr>\n",
       "      <th>3</th>\n",
       "      <td>2015</td>\n",
       "      <td>100 000 - 109 999</td>\n",
       "      <td>Hyundai</td>\n",
       "      <td>i 10</td>\n",
       "      <td>5 CV</td>\n",
       "      <td>hay_mohammedi</td>\n",
       "      <td>Essence</td>\n",
       "      <td>Voitures, Offre</td>\n",
       "      <td>Fès</td>\n",
       "      <td>Hyundai i 10 Essence tt -2015</td>\n",
       "      <td>True</td>\n",
       "    </tr>\n",
       "    <tr>\n",
       "      <th>4</th>\n",
       "      <td>2003</td>\n",
       "      <td>170 000 - 179 999</td>\n",
       "      <td>Volkswagen</td>\n",
       "      <td>GOLF 4</td>\n",
       "      <td>8 CV</td>\n",
       "      <td>NaN</td>\n",
       "      <td>Diesel</td>\n",
       "      <td>Voitures, Offre</td>\n",
       "      <td>Agadir</td>\n",
       "      <td>golf4 -2003</td>\n",
       "      <td>False</td>\n",
       "    </tr>\n",
       "  </tbody>\n",
       "</table>\n",
       "</div>"
      ],
      "text/plain": [
       "  Année-Modèle:       Kilométrage:     Marque:   Modèle: Puissance fiscale:  \\\n",
       "0          2009  200 000 - 249 999     Peugeot       308               6 CV   \n",
       "1          2017    35 000 - 39 999        Audi       RS3              11 CV   \n",
       "2          2014          0 - 4 999     Hyundai  Santa Fe               5 CV   \n",
       "3          2015  100 000 - 109 999     Hyundai      i 10               5 CV   \n",
       "4          2003  170 000 - 179 999  Volkswagen    GOLF 4               8 CV   \n",
       "\n",
       "        Secteur: Type de carburant:            Type:        city  \\\n",
       "0            NaN             Diesel  Voitures, Offre  Casablanca   \n",
       "1         maarif            Essence  Voitures, Offre  Casablanca   \n",
       "2         centre             Diesel  Voitures, Offre   El Jadida   \n",
       "3  hay_mohammedi            Essence  Voitures, Offre         Fès   \n",
       "4            NaN             Diesel  Voitures, Offre      Agadir   \n",
       "\n",
       "                              name  proOrNot  \n",
       "0               Peugeot 308 -2009      False  \n",
       "1                  Audi RS3 -2017       True  \n",
       "2   Hyundai Santa Fe Diesel -2014       True  \n",
       "3   Hyundai i 10 Essence tt -2015       True  \n",
       "4                     golf4 -2003      False  "
      ]
     },
     "execution_count": 111,
     "metadata": {},
     "output_type": "execute_result"
    }
   ],
   "source": [
    "#put it into a pandas df\n",
    "dataframe=pd.DataFrame(data)\n",
    "dataframe.head(5)"
   ]
  },
  {
   "cell_type": "markdown",
   "metadata": {},
   "source": [
    "## Export it to excel"
   ]
  },
  {
   "cell_type": "code",
   "execution_count": 116,
   "metadata": {},
   "outputs": [],
   "source": [
    "dataframe.to_excel(\"avito_data.xlsx\")"
   ]
  },
  {
   "cell_type": "markdown",
   "metadata": {},
   "source": [
    "## TO DO :\n",
    "* Clean the data\n",
    "* Make a model to predict price\n"
   ]
  },
  {
   "cell_type": "code",
   "execution_count": null,
   "metadata": {},
   "outputs": [],
   "source": []
  }
 ],
 "metadata": {
  "kernelspec": {
   "display_name": "Python 3",
   "language": "python",
   "name": "python3"
  },
  "language_info": {
   "codemirror_mode": {
    "name": "ipython",
    "version": 3
   },
   "file_extension": ".py",
   "mimetype": "text/x-python",
   "name": "python",
   "nbconvert_exporter": "python",
   "pygments_lexer": "ipython3",
   "version": "3.6.4"
  }
 },
 "nbformat": 4,
 "nbformat_minor": 2
}
