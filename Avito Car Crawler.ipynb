{
 "cells": [
  {
   "cell_type": "markdown",
   "metadata": {},
   "source": [
    "## This script will extract data off avito for further analysis"
   ]
  },
  {
   "cell_type": "code",
   "execution_count": 195,
   "metadata": {},
   "outputs": [],
   "source": [
    "from bs4 import BeautifulSoup\n",
    "import requests\n",
    "import pandas as pd\n",
    "from IPython.display import clear_output\n",
    "import numpy as np"
   ]
  },
  {
   "cell_type": "code",
   "execution_count": 196,
   "metadata": {},
   "outputs": [],
   "source": [
    "#this functions takes an avito car page and extracts data from it\n",
    "def getInternalData(link):\n",
    "    data={}\n",
    "    page=requests.get(link)\n",
    "    print(link)\n",
    "    soup = BeautifulSoup(page.content,\"html.parser\")\n",
    "    annonceText=soup.find(\"p\",{\"style\":\"word-wrap: break-word;\"}).text\n",
    "    dataPanel=soup.find(\"aside\",{\"class\":\"panel panel-body panel-info\"})\n",
    "    dataList=dataPanel.find(\"ul\")\n",
    "    for li in dataList.find_all(\"li\"):\n",
    "        if li.find(\"strong\")!=None:\n",
    "            title=li.find(\"strong\").text\n",
    "            \n",
    "            if li.find(\"a\")==None:\n",
    "                \n",
    "                value=li.find(\"h2\").text.split(\"\\n\")[1]\n",
    "            else:\n",
    "                value=li.find(\"a\").text\n",
    "            data[title]=value\n",
    "        else:\n",
    "            pass\n",
    "       \n",
    "    return data\n",
    "    \n",
    "    "
   ]
  },
  {
   "cell_type": "code",
   "execution_count": 197,
   "metadata": {},
   "outputs": [
    {
     "name": "stdout",
     "output_type": "stream",
     "text": [
      "--------------Currently processing page 268 -------------------------------------------------------\n",
      "https://www.avito.ma/fr/sidi_moumen/voitures/Megan_bon_etat_a_vendre_36290154.htm\n",
      "progress: 0.890095238095238%\n",
      "https://www.avito.ma/fr/salé/voitures/Fiat_punto_essence__36290131.htm\n",
      "progress: 0.8901904761904762%\n",
      "https://www.avito.ma/fr/hay_riad/voitures/Passat_cc_Cara_36290110.htm\n",
      "progress: 0.8902857142857142%\n",
      "https://www.avito.ma/fr/tanger/voitures/golf_3_36290109.htm\n",
      "progress: 0.8903809523809524%\n"
     ]
    },
    {
     "ename": "AttributeError",
     "evalue": "'NoneType' object has no attribute 'text'",
     "output_type": "error",
     "traceback": [
      "\u001b[1;31m---------------------------------------------------------------------------\u001b[0m",
      "\u001b[1;31mAttributeError\u001b[0m                            Traceback (most recent call last)",
      "\u001b[1;32m<ipython-input-197-7651a73c0b05>\u001b[0m in \u001b[0;36m<module>\u001b[1;34m()\u001b[0m\n\u001b[0;32m     20\u001b[0m         \u001b[0mitem\u001b[0m\u001b[1;33m=\u001b[0m\u001b[0msoup\u001b[0m\u001b[1;33m.\u001b[0m\u001b[0mfind\u001b[0m\u001b[1;33m(\u001b[0m\u001b[1;34m\"div\"\u001b[0m\u001b[1;33m,\u001b[0m \u001b[1;33m{\u001b[0m\u001b[1;34m\"id\"\u001b[0m\u001b[1;33m:\u001b[0m \u001b[0midItem\u001b[0m\u001b[1;33m}\u001b[0m\u001b[1;33m)\u001b[0m\u001b[1;33m\u001b[0m\u001b[0m\n\u001b[0;32m     21\u001b[0m         \u001b[0mname\u001b[0m\u001b[1;33m=\u001b[0m\u001b[0mitem\u001b[0m\u001b[1;33m.\u001b[0m\u001b[0mfind\u001b[0m\u001b[1;33m(\u001b[0m\u001b[1;34m\"h2\"\u001b[0m\u001b[1;33m)\u001b[0m\u001b[1;33m.\u001b[0m\u001b[0mfind\u001b[0m\u001b[1;33m(\u001b[0m\u001b[1;34m\"a\"\u001b[0m\u001b[1;33m)\u001b[0m\u001b[1;33m.\u001b[0m\u001b[0mtext\u001b[0m\u001b[1;33m\u001b[0m\u001b[0m\n\u001b[1;32m---> 22\u001b[1;33m         \u001b[0mprice\u001b[0m\u001b[1;33m=\u001b[0m\u001b[0mitem\u001b[0m\u001b[1;33m.\u001b[0m\u001b[0mfind\u001b[0m\u001b[1;33m(\u001b[0m\u001b[1;34m\"span\"\u001b[0m\u001b[1;33m,\u001b[0m\u001b[1;33m{\u001b[0m\u001b[1;34m\"class\"\u001b[0m\u001b[1;33m:\u001b[0m\u001b[1;34m\"price_value\"\u001b[0m\u001b[1;33m}\u001b[0m\u001b[1;33m)\u001b[0m\u001b[1;33m.\u001b[0m\u001b[0mtext\u001b[0m\u001b[1;33m\u001b[0m\u001b[0m\n\u001b[0m\u001b[0;32m     23\u001b[0m         \u001b[0mcity\u001b[0m\u001b[1;33m=\u001b[0m\u001b[0mitem\u001b[0m\u001b[1;33m.\u001b[0m\u001b[0mfind\u001b[0m\u001b[1;33m(\u001b[0m\u001b[1;34m\"span\"\u001b[0m\u001b[1;33m,\u001b[0m\u001b[1;33m{\u001b[0m\u001b[1;34m\"class\"\u001b[0m\u001b[1;33m:\u001b[0m\u001b[1;34m\"item-info-extra fs14\"\u001b[0m\u001b[1;33m}\u001b[0m\u001b[1;33m)\u001b[0m\u001b[1;33m.\u001b[0m\u001b[0mfind\u001b[0m\u001b[1;33m(\u001b[0m\u001b[1;34m\"a\"\u001b[0m\u001b[1;33m)\u001b[0m\u001b[1;33m.\u001b[0m\u001b[0mtext\u001b[0m\u001b[1;33m\u001b[0m\u001b[0m\n\u001b[0;32m     24\u001b[0m         \u001b[0mproOrNot\u001b[0m\u001b[1;33m=\u001b[0m\u001b[1;32mFalse\u001b[0m \u001b[1;32mif\u001b[0m \u001b[0mitem\u001b[0m\u001b[1;33m.\u001b[0m\u001b[0mfind\u001b[0m\u001b[1;33m(\u001b[0m\u001b[1;34m\"span\"\u001b[0m\u001b[1;33m,\u001b[0m\u001b[1;33m{\u001b[0m\u001b[1;34m\"class\"\u001b[0m\u001b[1;33m:\u001b[0m\u001b[1;34m\"item-info-extra fs14\"\u001b[0m\u001b[1;33m}\u001b[0m\u001b[1;33m)\u001b[0m\u001b[1;33m.\u001b[0m\u001b[0mfind\u001b[0m\u001b[1;33m(\u001b[0m\u001b[1;34m\"strong\"\u001b[0m\u001b[1;33m)\u001b[0m\u001b[1;33m==\u001b[0m\u001b[1;32mNone\u001b[0m \u001b[1;32melse\u001b[0m \u001b[1;32mTrue\u001b[0m\u001b[1;33m\u001b[0m\u001b[0m\n",
      "\u001b[1;31mAttributeError\u001b[0m: 'NoneType' object has no attribute 'text'"
     ]
    }
   ],
   "source": [
    "#setup how many pages you want using pageDeepness\n",
    "pageDeepness=300\n",
    "\n",
    "\n",
    "\n",
    "totalItems=pageDeepness*35 \n",
    "currentPage=1\n",
    "data=[]\n",
    "for i in range(1,pageDeepness+1):\n",
    "    clear_output()\n",
    "    print(\"--------------Currently processing page \"+str(i)+\" -------------------------------------------------------\")\n",
    "    \n",
    "    \n",
    "    startItem=(i-1)*35 +1\n",
    "    endItem=startItem+35\n",
    "    page=requests.get(\"https://www.avito.ma/fr/maroc/voitures-à_vendre?o=\"+str(i))\n",
    "    soup = BeautifulSoup(page.content,\"html.parser\")\n",
    "    for j in range(startItem,endItem):\n",
    "        idItem=\"li-item-\"+str(j)+\" \"\n",
    "        item=soup.find(\"div\", {\"id\": idItem})\n",
    "        name=item.find(\"h2\").find(\"a\").text\n",
    "        price=item.find(\"span\",{\"class\":\"price_value\"}).text\n",
    "        city=item.find(\"span\",{\"class\":\"item-info-extra fs14\"}).find(\"a\").text\n",
    "        proOrNot=False if item.find(\"span\",{\"class\":\"item-info-extra fs14\"}).find(\"strong\")==None else True\n",
    "        link=item.find(\"h2\").find(\"a\",href=True)['href']\n",
    "        try :\n",
    "            dataPoint=getInternalData(link)\n",
    "        except:\n",
    "            continue\n",
    "        dataPoint[\"name\"]=name\n",
    "        dataPoint[\"city\"]=city\n",
    "        dataPoint[\"proOrNot\"]=proOrNot\n",
    "        dataPoint[\"price\"]=price\n",
    "        data.append(dataPoint)\n",
    "        print(\"progress: \"+str(j/totalItems)+\"%\")\n",
    "\n",
    "clear_output()       \n",
    "print(\"All Done :3\")\n",
    "        \n",
    "    \n",
    "\n",
    "\n",
    "    \n",
    "\n",
    "    \n",
    "    "
   ]
  },
  {
   "cell_type": "code",
   "execution_count": 198,
   "metadata": {},
   "outputs": [
    {
     "data": {
      "text/plain": [
       "(9336, 12)"
      ]
     },
     "execution_count": 198,
     "metadata": {},
     "output_type": "execute_result"
    }
   ],
   "source": [
    "#put it into a pandas df\n",
    "dataframe=pd.DataFrame(data)\n",
    "dataframe.shape"
   ]
  },
  {
   "cell_type": "markdown",
   "metadata": {},
   "source": [
    "## Export it to excel"
   ]
  },
  {
   "cell_type": "code",
   "execution_count": 199,
   "metadata": {},
   "outputs": [],
   "source": [
    "dataframe.to_excel(\"avito_data.xlsx\")"
   ]
  },
  {
   "cell_type": "markdown",
   "metadata": {},
   "source": [
    "## TO DO :\n",
    "* Clean the data\n",
    "* Make a model to predict price\n"
   ]
  },
  {
   "cell_type": "markdown",
   "metadata": {},
   "source": [
    "## Cleaning data"
   ]
  },
  {
   "cell_type": "code",
   "execution_count": 223,
   "metadata": {},
   "outputs": [],
   "source": [
    "#load data\n",
    "df=pd.read_excel('avito_data.xlsx')"
   ]
  },
  {
   "cell_type": "code",
   "execution_count": 224,
   "metadata": {},
   "outputs": [
    {
     "data": {
      "text/html": [
       "<div>\n",
       "<style scoped>\n",
       "    .dataframe tbody tr th:only-of-type {\n",
       "        vertical-align: middle;\n",
       "    }\n",
       "\n",
       "    .dataframe tbody tr th {\n",
       "        vertical-align: top;\n",
       "    }\n",
       "\n",
       "    .dataframe thead th {\n",
       "        text-align: right;\n",
       "    }\n",
       "</style>\n",
       "<table border=\"1\" class=\"dataframe\">\n",
       "  <thead>\n",
       "    <tr style=\"text-align: right;\">\n",
       "      <th></th>\n",
       "      <th>Unnamed: 0</th>\n",
       "      <th>Année-Modèle:</th>\n",
       "      <th>Kilométrage:</th>\n",
       "      <th>Marque:</th>\n",
       "      <th>Modèle:</th>\n",
       "      <th>Puissance fiscale:</th>\n",
       "      <th>Secteur:</th>\n",
       "      <th>Type de carburant:</th>\n",
       "      <th>Type:</th>\n",
       "      <th>city</th>\n",
       "      <th>name</th>\n",
       "      <th>price</th>\n",
       "      <th>proOrNot</th>\n",
       "    </tr>\n",
       "  </thead>\n",
       "  <tbody>\n",
       "    <tr>\n",
       "      <th>0</th>\n",
       "      <td>0</td>\n",
       "      <td>2006</td>\n",
       "      <td>180 000 - 189 999</td>\n",
       "      <td>Kia</td>\n",
       "      <td>Sorento</td>\n",
       "      <td>9 CV</td>\n",
       "      <td>ain_sebaa</td>\n",
       "      <td>Diesel</td>\n",
       "      <td>Voitures, Offre</td>\n",
       "      <td>Casablanca</td>\n",
       "      <td>Kia Sorento Diesel -2006</td>\n",
       "      <td>75 000</td>\n",
       "      <td>True</td>\n",
       "    </tr>\n",
       "    <tr>\n",
       "      <th>1</th>\n",
       "      <td>1</td>\n",
       "      <td>2018</td>\n",
       "      <td>35 000 - 39 999</td>\n",
       "      <td>Mercedes-Benz</td>\n",
       "      <td>Classe E</td>\n",
       "      <td>8 CV</td>\n",
       "      <td>derb_ghallef</td>\n",
       "      <td>Diesel</td>\n",
       "      <td>Voitures, Offre</td>\n",
       "      <td>Casablanca</td>\n",
       "      <td>Mercedes-Benz Classe E220 COUPE -2018</td>\n",
       "      <td></td>\n",
       "      <td>True</td>\n",
       "    </tr>\n",
       "    <tr>\n",
       "      <th>2</th>\n",
       "      <td>2</td>\n",
       "      <td>2015</td>\n",
       "      <td>140 000 - 149 999</td>\n",
       "      <td>Mercedes-Benz</td>\n",
       "      <td>Classe E</td>\n",
       "      <td>8 CV</td>\n",
       "      <td>NaN</td>\n",
       "      <td>Diesel</td>\n",
       "      <td>Voitures, Offre</td>\n",
       "      <td>Fès</td>\n",
       "      <td>Mercedes Classe E -2015</td>\n",
       "      <td>300 000</td>\n",
       "      <td>False</td>\n",
       "    </tr>\n",
       "    <tr>\n",
       "      <th>3</th>\n",
       "      <td>3</td>\n",
       "      <td>2002</td>\n",
       "      <td>250 000 - 299 999</td>\n",
       "      <td>Fiat</td>\n",
       "      <td>Uno</td>\n",
       "      <td>5 CV</td>\n",
       "      <td>NaN</td>\n",
       "      <td>Essence</td>\n",
       "      <td>Voitures, Offre</td>\n",
       "      <td>Agadir</td>\n",
       "      <td>fiat uno -2002</td>\n",
       "      <td>28 000</td>\n",
       "      <td>False</td>\n",
       "    </tr>\n",
       "    <tr>\n",
       "      <th>4</th>\n",
       "      <td>4</td>\n",
       "      <td>2008</td>\n",
       "      <td>100 000 - 109 999</td>\n",
       "      <td>BMW</td>\n",
       "      <td>X5</td>\n",
       "      <td>18</td>\n",
       "      <td>bourgogne</td>\n",
       "      <td>Essence</td>\n",
       "      <td>Voitures, Offre</td>\n",
       "      <td>Casablanca</td>\n",
       "      <td>BMW X5 Essence -2008</td>\n",
       "      <td>129 000</td>\n",
       "      <td>True</td>\n",
       "    </tr>\n",
       "  </tbody>\n",
       "</table>\n",
       "</div>"
      ],
      "text/plain": [
       "   Unnamed: 0 Année-Modèle:       Kilométrage:        Marque:   Modèle:  \\\n",
       "0           0          2006  180 000 - 189 999            Kia   Sorento   \n",
       "1           1          2018    35 000 - 39 999  Mercedes-Benz  Classe E   \n",
       "2           2          2015  140 000 - 149 999  Mercedes-Benz  Classe E   \n",
       "3           3          2002  250 000 - 299 999           Fiat       Uno   \n",
       "4           4          2008  100 000 - 109 999            BMW        X5   \n",
       "\n",
       "  Puissance fiscale:      Secteur: Type de carburant:            Type:  \\\n",
       "0               9 CV     ain_sebaa             Diesel  Voitures, Offre   \n",
       "1               8 CV  derb_ghallef             Diesel  Voitures, Offre   \n",
       "2               8 CV           NaN             Diesel  Voitures, Offre   \n",
       "3               5 CV           NaN            Essence  Voitures, Offre   \n",
       "4                 18     bourgogne            Essence  Voitures, Offre   \n",
       "\n",
       "         city                                     name    price  proOrNot  \n",
       "0  Casablanca                Kia Sorento Diesel -2006    75 000      True  \n",
       "1  Casablanca   Mercedes-Benz Classe E220 COUPE -2018                True  \n",
       "2         Fès                 Mercedes Classe E -2015   300 000     False  \n",
       "3      Agadir                          fiat uno -2002    28 000     False  \n",
       "4  Casablanca                    BMW X5 Essence -2008   129 000      True  "
      ]
     },
     "execution_count": 224,
     "metadata": {},
     "output_type": "execute_result"
    }
   ],
   "source": [
    "df.head()"
   ]
  },
  {
   "cell_type": "code",
   "execution_count": 225,
   "metadata": {},
   "outputs": [
    {
     "data": {
      "text/plain": [
       "Index(['Unnamed: 0', 'Année-Modèle:', 'Kilométrage:', 'Marque:', 'Modèle:',\n",
       "       'Puissance fiscale:', 'Secteur:', 'Type de carburant:', 'Type:', 'city',\n",
       "       'name', 'price', 'proOrNot'],\n",
       "      dtype='object')"
      ]
     },
     "execution_count": 225,
     "metadata": {},
     "output_type": "execute_result"
    }
   ],
   "source": [
    "#clean \n",
    "df.columns"
   ]
  },
  {
   "cell_type": "code",
   "execution_count": 226,
   "metadata": {},
   "outputs": [],
   "source": [
    "#drop unamed col\n",
    "df.drop(\"Unnamed: 0\",inplace=True,axis=1)"
   ]
  },
  {
   "cell_type": "code",
   "execution_count": 227,
   "metadata": {},
   "outputs": [],
   "source": [
    "#drop type col \n",
    "df.drop(\"Type:\",inplace=True,axis=1)\n"
   ]
  },
  {
   "cell_type": "code",
   "execution_count": null,
   "metadata": {},
   "outputs": [],
   "source": []
  },
  {
   "cell_type": "code",
   "execution_count": 228,
   "metadata": {},
   "outputs": [],
   "source": [
    "#Turn kilometrage into kilo min and kilo max\n",
    "df[\"kiloMin\"]=df[\"Kilométrage:\"].apply(lambda s : s.split(\"-\")[0].strip().replace(\" \",\"\"))\n",
    "df[\"kiloMax\"]=df[\"Kilométrage:\"].apply(lambda s : s.split(\"-\")[1].strip().replace(\" \",\"\") if len(s.split(\"-\"))==2 else s.split(\"-\")[0].strip().replace(\" \",\"\"))\n",
    "df.drop(\"Kilométrage:\",inplace=True,axis=1)"
   ]
  },
  {
   "cell_type": "code",
   "execution_count": 229,
   "metadata": {},
   "outputs": [],
   "source": [
    "#drop name\n",
    "df.drop(\"name\",inplace=True,axis=1)"
   ]
  },
  {
   "cell_type": "code",
   "execution_count": 230,
   "metadata": {},
   "outputs": [
    {
     "data": {
      "text/html": [
       "<div>\n",
       "<style scoped>\n",
       "    .dataframe tbody tr th:only-of-type {\n",
       "        vertical-align: middle;\n",
       "    }\n",
       "\n",
       "    .dataframe tbody tr th {\n",
       "        vertical-align: top;\n",
       "    }\n",
       "\n",
       "    .dataframe thead th {\n",
       "        text-align: right;\n",
       "    }\n",
       "</style>\n",
       "<table border=\"1\" class=\"dataframe\">\n",
       "  <thead>\n",
       "    <tr style=\"text-align: right;\">\n",
       "      <th></th>\n",
       "      <th>Année-Modèle:</th>\n",
       "      <th>Marque:</th>\n",
       "      <th>Modèle:</th>\n",
       "      <th>Puissance fiscale:</th>\n",
       "      <th>Secteur:</th>\n",
       "      <th>Type de carburant:</th>\n",
       "      <th>city</th>\n",
       "      <th>price</th>\n",
       "      <th>proOrNot</th>\n",
       "      <th>kiloMin</th>\n",
       "      <th>kiloMax</th>\n",
       "    </tr>\n",
       "  </thead>\n",
       "  <tbody>\n",
       "    <tr>\n",
       "      <th>0</th>\n",
       "      <td>2006</td>\n",
       "      <td>Kia</td>\n",
       "      <td>Sorento</td>\n",
       "      <td>9 CV</td>\n",
       "      <td>ain_sebaa</td>\n",
       "      <td>Diesel</td>\n",
       "      <td>Casablanca</td>\n",
       "      <td>75 000</td>\n",
       "      <td>True</td>\n",
       "      <td>180000</td>\n",
       "      <td>189999</td>\n",
       "    </tr>\n",
       "    <tr>\n",
       "      <th>1</th>\n",
       "      <td>2018</td>\n",
       "      <td>Mercedes-Benz</td>\n",
       "      <td>Classe E</td>\n",
       "      <td>8 CV</td>\n",
       "      <td>derb_ghallef</td>\n",
       "      <td>Diesel</td>\n",
       "      <td>Casablanca</td>\n",
       "      <td></td>\n",
       "      <td>True</td>\n",
       "      <td>35000</td>\n",
       "      <td>39999</td>\n",
       "    </tr>\n",
       "    <tr>\n",
       "      <th>2</th>\n",
       "      <td>2015</td>\n",
       "      <td>Mercedes-Benz</td>\n",
       "      <td>Classe E</td>\n",
       "      <td>8 CV</td>\n",
       "      <td>NaN</td>\n",
       "      <td>Diesel</td>\n",
       "      <td>Fès</td>\n",
       "      <td>300 000</td>\n",
       "      <td>False</td>\n",
       "      <td>140000</td>\n",
       "      <td>149999</td>\n",
       "    </tr>\n",
       "    <tr>\n",
       "      <th>3</th>\n",
       "      <td>2002</td>\n",
       "      <td>Fiat</td>\n",
       "      <td>Uno</td>\n",
       "      <td>5 CV</td>\n",
       "      <td>NaN</td>\n",
       "      <td>Essence</td>\n",
       "      <td>Agadir</td>\n",
       "      <td>28 000</td>\n",
       "      <td>False</td>\n",
       "      <td>250000</td>\n",
       "      <td>299999</td>\n",
       "    </tr>\n",
       "    <tr>\n",
       "      <th>4</th>\n",
       "      <td>2008</td>\n",
       "      <td>BMW</td>\n",
       "      <td>X5</td>\n",
       "      <td>18</td>\n",
       "      <td>bourgogne</td>\n",
       "      <td>Essence</td>\n",
       "      <td>Casablanca</td>\n",
       "      <td>129 000</td>\n",
       "      <td>True</td>\n",
       "      <td>100000</td>\n",
       "      <td>109999</td>\n",
       "    </tr>\n",
       "  </tbody>\n",
       "</table>\n",
       "</div>"
      ],
      "text/plain": [
       "  Année-Modèle:        Marque:   Modèle: Puissance fiscale:      Secteur:  \\\n",
       "0          2006            Kia   Sorento               9 CV     ain_sebaa   \n",
       "1          2018  Mercedes-Benz  Classe E               8 CV  derb_ghallef   \n",
       "2          2015  Mercedes-Benz  Classe E               8 CV           NaN   \n",
       "3          2002           Fiat       Uno               5 CV           NaN   \n",
       "4          2008            BMW        X5                 18     bourgogne   \n",
       "\n",
       "  Type de carburant:        city    price  proOrNot kiloMin kiloMax  \n",
       "0             Diesel  Casablanca   75 000      True  180000  189999  \n",
       "1             Diesel  Casablanca               True   35000   39999  \n",
       "2             Diesel         Fès  300 000     False  140000  149999  \n",
       "3            Essence      Agadir   28 000     False  250000  299999  \n",
       "4            Essence  Casablanca  129 000      True  100000  109999  "
      ]
     },
     "execution_count": 230,
     "metadata": {},
     "output_type": "execute_result"
    }
   ],
   "source": [
    "df.head()"
   ]
  },
  {
   "cell_type": "code",
   "execution_count": 233,
   "metadata": {},
   "outputs": [],
   "source": [
    "#turn puiss fiscal into number\n",
    "df['Puissance fiscale:']=df['Puissance fiscale:'].apply(lambda s : s.split(\" \")[0].strip() if type(s)!=float else s)\n"
   ]
  },
  {
   "cell_type": "code",
   "execution_count": 234,
   "metadata": {},
   "outputs": [
    {
     "data": {
      "text/html": [
       "<div>\n",
       "<style scoped>\n",
       "    .dataframe tbody tr th:only-of-type {\n",
       "        vertical-align: middle;\n",
       "    }\n",
       "\n",
       "    .dataframe tbody tr th {\n",
       "        vertical-align: top;\n",
       "    }\n",
       "\n",
       "    .dataframe thead th {\n",
       "        text-align: right;\n",
       "    }\n",
       "</style>\n",
       "<table border=\"1\" class=\"dataframe\">\n",
       "  <thead>\n",
       "    <tr style=\"text-align: right;\">\n",
       "      <th></th>\n",
       "      <th>Année-Modèle:</th>\n",
       "      <th>Marque:</th>\n",
       "      <th>Modèle:</th>\n",
       "      <th>Puissance fiscale:</th>\n",
       "      <th>Secteur:</th>\n",
       "      <th>Type de carburant:</th>\n",
       "      <th>city</th>\n",
       "      <th>price</th>\n",
       "      <th>proOrNot</th>\n",
       "      <th>kiloMin</th>\n",
       "      <th>kiloMax</th>\n",
       "    </tr>\n",
       "  </thead>\n",
       "  <tbody>\n",
       "    <tr>\n",
       "      <th>0</th>\n",
       "      <td>2006</td>\n",
       "      <td>Kia</td>\n",
       "      <td>Sorento</td>\n",
       "      <td>9</td>\n",
       "      <td>ain_sebaa</td>\n",
       "      <td>Diesel</td>\n",
       "      <td>Casablanca</td>\n",
       "      <td>75 000</td>\n",
       "      <td>True</td>\n",
       "      <td>180000</td>\n",
       "      <td>189999</td>\n",
       "    </tr>\n",
       "    <tr>\n",
       "      <th>1</th>\n",
       "      <td>2018</td>\n",
       "      <td>Mercedes-Benz</td>\n",
       "      <td>Classe E</td>\n",
       "      <td>8</td>\n",
       "      <td>derb_ghallef</td>\n",
       "      <td>Diesel</td>\n",
       "      <td>Casablanca</td>\n",
       "      <td></td>\n",
       "      <td>True</td>\n",
       "      <td>35000</td>\n",
       "      <td>39999</td>\n",
       "    </tr>\n",
       "    <tr>\n",
       "      <th>2</th>\n",
       "      <td>2015</td>\n",
       "      <td>Mercedes-Benz</td>\n",
       "      <td>Classe E</td>\n",
       "      <td>8</td>\n",
       "      <td>NaN</td>\n",
       "      <td>Diesel</td>\n",
       "      <td>Fès</td>\n",
       "      <td>300 000</td>\n",
       "      <td>False</td>\n",
       "      <td>140000</td>\n",
       "      <td>149999</td>\n",
       "    </tr>\n",
       "    <tr>\n",
       "      <th>3</th>\n",
       "      <td>2002</td>\n",
       "      <td>Fiat</td>\n",
       "      <td>Uno</td>\n",
       "      <td>5</td>\n",
       "      <td>NaN</td>\n",
       "      <td>Essence</td>\n",
       "      <td>Agadir</td>\n",
       "      <td>28 000</td>\n",
       "      <td>False</td>\n",
       "      <td>250000</td>\n",
       "      <td>299999</td>\n",
       "    </tr>\n",
       "    <tr>\n",
       "      <th>4</th>\n",
       "      <td>2008</td>\n",
       "      <td>BMW</td>\n",
       "      <td>X5</td>\n",
       "      <td>18</td>\n",
       "      <td>bourgogne</td>\n",
       "      <td>Essence</td>\n",
       "      <td>Casablanca</td>\n",
       "      <td>129 000</td>\n",
       "      <td>True</td>\n",
       "      <td>100000</td>\n",
       "      <td>109999</td>\n",
       "    </tr>\n",
       "  </tbody>\n",
       "</table>\n",
       "</div>"
      ],
      "text/plain": [
       "  Année-Modèle:        Marque:   Modèle: Puissance fiscale:      Secteur:  \\\n",
       "0          2006            Kia   Sorento                  9     ain_sebaa   \n",
       "1          2018  Mercedes-Benz  Classe E                  8  derb_ghallef   \n",
       "2          2015  Mercedes-Benz  Classe E                  8           NaN   \n",
       "3          2002           Fiat       Uno                  5           NaN   \n",
       "4          2008            BMW        X5                 18     bourgogne   \n",
       "\n",
       "  Type de carburant:        city    price  proOrNot kiloMin kiloMax  \n",
       "0             Diesel  Casablanca   75 000      True  180000  189999  \n",
       "1             Diesel  Casablanca               True   35000   39999  \n",
       "2             Diesel         Fès  300 000     False  140000  149999  \n",
       "3            Essence      Agadir   28 000     False  250000  299999  \n",
       "4            Essence  Casablanca  129 000      True  100000  109999  "
      ]
     },
     "execution_count": 234,
     "metadata": {},
     "output_type": "execute_result"
    }
   ],
   "source": [
    "df.head()"
   ]
  },
  {
   "cell_type": "code",
   "execution_count": 235,
   "metadata": {},
   "outputs": [
    {
     "data": {
      "text/html": [
       "<div>\n",
       "<style scoped>\n",
       "    .dataframe tbody tr th:only-of-type {\n",
       "        vertical-align: middle;\n",
       "    }\n",
       "\n",
       "    .dataframe tbody tr th {\n",
       "        vertical-align: top;\n",
       "    }\n",
       "\n",
       "    .dataframe thead th {\n",
       "        text-align: right;\n",
       "    }\n",
       "</style>\n",
       "<table border=\"1\" class=\"dataframe\">\n",
       "  <thead>\n",
       "    <tr style=\"text-align: right;\">\n",
       "      <th></th>\n",
       "      <th>annéeModèle</th>\n",
       "      <th>Marque</th>\n",
       "      <th>Modèle</th>\n",
       "      <th>puissFisacale</th>\n",
       "      <th>Secteur</th>\n",
       "      <th>typeCarburant</th>\n",
       "      <th>ville</th>\n",
       "      <th>prix</th>\n",
       "      <th>pro</th>\n",
       "      <th>kiloMin</th>\n",
       "      <th>kiloMax</th>\n",
       "    </tr>\n",
       "  </thead>\n",
       "  <tbody>\n",
       "    <tr>\n",
       "      <th>0</th>\n",
       "      <td>2006</td>\n",
       "      <td>Kia</td>\n",
       "      <td>Sorento</td>\n",
       "      <td>9</td>\n",
       "      <td>ain_sebaa</td>\n",
       "      <td>Diesel</td>\n",
       "      <td>Casablanca</td>\n",
       "      <td>75 000</td>\n",
       "      <td>True</td>\n",
       "      <td>180000</td>\n",
       "      <td>189999</td>\n",
       "    </tr>\n",
       "    <tr>\n",
       "      <th>1</th>\n",
       "      <td>2018</td>\n",
       "      <td>Mercedes-Benz</td>\n",
       "      <td>Classe E</td>\n",
       "      <td>8</td>\n",
       "      <td>derb_ghallef</td>\n",
       "      <td>Diesel</td>\n",
       "      <td>Casablanca</td>\n",
       "      <td></td>\n",
       "      <td>True</td>\n",
       "      <td>35000</td>\n",
       "      <td>39999</td>\n",
       "    </tr>\n",
       "    <tr>\n",
       "      <th>2</th>\n",
       "      <td>2015</td>\n",
       "      <td>Mercedes-Benz</td>\n",
       "      <td>Classe E</td>\n",
       "      <td>8</td>\n",
       "      <td>NaN</td>\n",
       "      <td>Diesel</td>\n",
       "      <td>Fès</td>\n",
       "      <td>300 000</td>\n",
       "      <td>False</td>\n",
       "      <td>140000</td>\n",
       "      <td>149999</td>\n",
       "    </tr>\n",
       "    <tr>\n",
       "      <th>3</th>\n",
       "      <td>2002</td>\n",
       "      <td>Fiat</td>\n",
       "      <td>Uno</td>\n",
       "      <td>5</td>\n",
       "      <td>NaN</td>\n",
       "      <td>Essence</td>\n",
       "      <td>Agadir</td>\n",
       "      <td>28 000</td>\n",
       "      <td>False</td>\n",
       "      <td>250000</td>\n",
       "      <td>299999</td>\n",
       "    </tr>\n",
       "    <tr>\n",
       "      <th>4</th>\n",
       "      <td>2008</td>\n",
       "      <td>BMW</td>\n",
       "      <td>X5</td>\n",
       "      <td>18</td>\n",
       "      <td>bourgogne</td>\n",
       "      <td>Essence</td>\n",
       "      <td>Casablanca</td>\n",
       "      <td>129 000</td>\n",
       "      <td>True</td>\n",
       "      <td>100000</td>\n",
       "      <td>109999</td>\n",
       "    </tr>\n",
       "  </tbody>\n",
       "</table>\n",
       "</div>"
      ],
      "text/plain": [
       "  annéeModèle         Marque    Modèle puissFisacale       Secteur  \\\n",
       "0        2006            Kia   Sorento             9     ain_sebaa   \n",
       "1        2018  Mercedes-Benz  Classe E             8  derb_ghallef   \n",
       "2        2015  Mercedes-Benz  Classe E             8           NaN   \n",
       "3        2002           Fiat       Uno             5           NaN   \n",
       "4        2008            BMW        X5            18     bourgogne   \n",
       "\n",
       "  typeCarburant       ville     prix    pro kiloMin kiloMax  \n",
       "0        Diesel  Casablanca   75 000   True  180000  189999  \n",
       "1        Diesel  Casablanca            True   35000   39999  \n",
       "2        Diesel         Fès  300 000  False  140000  149999  \n",
       "3       Essence      Agadir   28 000  False  250000  299999  \n",
       "4       Essence  Casablanca  129 000   True  100000  109999  "
      ]
     },
     "execution_count": 235,
     "metadata": {},
     "output_type": "execute_result"
    }
   ],
   "source": [
    "#make columns names prettier\n",
    "df.columns=['annéeModèle',\"Marque\",\"Modèle\",\"puissFisacale\",\"Secteur\",\"typeCarburant\",\"ville\",\"prix\",\"pro\",\"kiloMin\",\"kiloMax\"]\n",
    "df.head()\n"
   ]
  },
  {
   "cell_type": "code",
   "execution_count": 236,
   "metadata": {},
   "outputs": [
    {
     "data": {
      "text/plain": [
       "annéeModèle      object\n",
       "Marque           object\n",
       "Modèle           object\n",
       "puissFisacale    object\n",
       "Secteur          object\n",
       "typeCarburant    object\n",
       "ville            object\n",
       "prix             object\n",
       "pro                bool\n",
       "kiloMin          object\n",
       "kiloMax          object\n",
       "dtype: object"
      ]
     },
     "execution_count": 236,
     "metadata": {},
     "output_type": "execute_result"
    }
   ],
   "source": [
    "df.dtypes"
   ]
  },
  {
   "cell_type": "code",
   "execution_count": 237,
   "metadata": {},
   "outputs": [],
   "source": [
    "#fix null values\n",
    "#prix\n",
    "df[\"prix\"]=df[\"prix\"].apply(lambda s : np.NaN if s==\"\\xa0\" else s.replace(\" \",\"\") )\n",
    "df[\"kiloMax\"]=df[\"kiloMax\"].apply(lambda s : np.NaN if s=='' else s.replace(\" \",\"\") )\n",
    "df[\"kiloMin\"]=df[\"kiloMin\"].apply(lambda s : np.NaN if s=='' else s.replace(\" \",\"\") )\n"
   ]
  },
  {
   "cell_type": "code",
   "execution_count": 238,
   "metadata": {},
   "outputs": [],
   "source": [
    "#puissFiscale\n",
    "df[\"puissFisacale\"]=df[\"puissFisacale\"].apply(lambda s : np.NaN if s==\"-\" else s )\n",
    "df[\"Marque\"]=df[\"Marque\"].apply(lambda s : np.NaN if s==\"-\" else s )\n",
    "df[\"Modèle\"]=df[\"Modèle\"].apply(lambda s : np.NaN if s==\"-\" else s )\n",
    "df[\"annéeModèle\"]=df[\"annéeModèle\"].apply(lambda s : np.NaN if s==\"-\" else s )\n",
    "df[\"typeCarburant\"]=df[\"typeCarburant\"].apply(lambda s : np.NaN if s==\"-\" else s )"
   ]
  },
  {
   "cell_type": "code",
   "execution_count": 239,
   "metadata": {},
   "outputs": [
    {
     "data": {
      "text/plain": [
       "'140000'"
      ]
     },
     "execution_count": 239,
     "metadata": {},
     "output_type": "execute_result"
    }
   ],
   "source": [
    "df[\"kiloMin\"][2]"
   ]
  },
  {
   "cell_type": "code",
   "execution_count": 241,
   "metadata": {},
   "outputs": [],
   "source": [
    "#fix numerical values\n",
    "\n",
    "df[\"kiloMin\"]=pd.to_numeric(df[\"kiloMin\"], errors='coerce')\n",
    "df[\"kiloMax\"]=pd.to_numeric(df[\"kiloMax\"], errors='coerce')\n",
    "df[\"prix\"]=pd.to_numeric(df[\"prix\"], errors='coerce')\n",
    "df[\"puissFisacale\"]=pd.to_numeric(df[\"puissFisacale\"], errors='coerce')"
   ]
  },
  {
   "cell_type": "code",
   "execution_count": 242,
   "metadata": {},
   "outputs": [
    {
     "data": {
      "text/plain": [
       "annéeModèle       object\n",
       "Marque            object\n",
       "Modèle            object\n",
       "puissFisacale    float64\n",
       "Secteur           object\n",
       "typeCarburant     object\n",
       "ville             object\n",
       "prix             float64\n",
       "pro                 bool\n",
       "kiloMin          float64\n",
       "kiloMax          float64\n",
       "dtype: object"
      ]
     },
     "execution_count": 242,
     "metadata": {},
     "output_type": "execute_result"
    }
   ],
   "source": [
    "df.dtypes"
   ]
  },
  {
   "cell_type": "code",
   "execution_count": 253,
   "metadata": {},
   "outputs": [
    {
     "data": {
      "text/plain": [
       "annéeModèle      category\n",
       "Marque           category\n",
       "Modèle           category\n",
       "puissFisacale     float64\n",
       "Secteur          category\n",
       "typeCarburant    category\n",
       "ville            category\n",
       "prix              float64\n",
       "pro                  bool\n",
       "kiloMin           float64\n",
       "kiloMax           float64\n",
       "dtype: object"
      ]
     },
     "execution_count": 253,
     "metadata": {},
     "output_type": "execute_result"
    }
   ],
   "source": [
    "#fix categorical values\n",
    "df[\"typeCarburant\"]=df[\"typeCarburant\"].astype(\"category\")\n",
    "df[\"Marque\"]=df[\"Marque\"].astype(\"category\")\n",
    "df[\"Modèle\"]=df[\"Modèle\"].astype(\"category\")\n",
    "df[\"Secteur\"]=df[\"Secteur\"].astype(\"category\")\n",
    "df[\"ville\"]=df[\"ville\"].astype(\"category\")\n",
    "df[\"annéeModèle\"]=df[\"annéeModèle\"].astype(\"category\")\n",
    "\n",
    "df.dtypes"
   ]
  },
  {
   "cell_type": "code",
   "execution_count": 254,
   "metadata": {},
   "outputs": [
    {
     "data": {
      "text/html": [
       "<div>\n",
       "<style scoped>\n",
       "    .dataframe tbody tr th:only-of-type {\n",
       "        vertical-align: middle;\n",
       "    }\n",
       "\n",
       "    .dataframe tbody tr th {\n",
       "        vertical-align: top;\n",
       "    }\n",
       "\n",
       "    .dataframe thead th {\n",
       "        text-align: right;\n",
       "    }\n",
       "</style>\n",
       "<table border=\"1\" class=\"dataframe\">\n",
       "  <thead>\n",
       "    <tr style=\"text-align: right;\">\n",
       "      <th></th>\n",
       "      <th>annéeModèle</th>\n",
       "      <th>Marque</th>\n",
       "      <th>Modèle</th>\n",
       "      <th>puissFisacale</th>\n",
       "      <th>Secteur</th>\n",
       "      <th>typeCarburant</th>\n",
       "      <th>ville</th>\n",
       "      <th>prix</th>\n",
       "      <th>pro</th>\n",
       "      <th>kiloMin</th>\n",
       "      <th>kiloMax</th>\n",
       "    </tr>\n",
       "  </thead>\n",
       "  <tbody>\n",
       "    <tr>\n",
       "      <th>0</th>\n",
       "      <td>2006</td>\n",
       "      <td>Kia</td>\n",
       "      <td>Sorento</td>\n",
       "      <td>9.0</td>\n",
       "      <td>ain_sebaa</td>\n",
       "      <td>Diesel</td>\n",
       "      <td>Casablanca</td>\n",
       "      <td>75000.0</td>\n",
       "      <td>True</td>\n",
       "      <td>180000.0</td>\n",
       "      <td>189999.0</td>\n",
       "    </tr>\n",
       "    <tr>\n",
       "      <th>1</th>\n",
       "      <td>2018</td>\n",
       "      <td>Mercedes-Benz</td>\n",
       "      <td>Classe E</td>\n",
       "      <td>8.0</td>\n",
       "      <td>derb_ghallef</td>\n",
       "      <td>Diesel</td>\n",
       "      <td>Casablanca</td>\n",
       "      <td>NaN</td>\n",
       "      <td>True</td>\n",
       "      <td>35000.0</td>\n",
       "      <td>39999.0</td>\n",
       "    </tr>\n",
       "    <tr>\n",
       "      <th>2</th>\n",
       "      <td>2015</td>\n",
       "      <td>Mercedes-Benz</td>\n",
       "      <td>Classe E</td>\n",
       "      <td>8.0</td>\n",
       "      <td>NaN</td>\n",
       "      <td>Diesel</td>\n",
       "      <td>Fès</td>\n",
       "      <td>300000.0</td>\n",
       "      <td>False</td>\n",
       "      <td>140000.0</td>\n",
       "      <td>149999.0</td>\n",
       "    </tr>\n",
       "    <tr>\n",
       "      <th>3</th>\n",
       "      <td>2002</td>\n",
       "      <td>Fiat</td>\n",
       "      <td>Uno</td>\n",
       "      <td>5.0</td>\n",
       "      <td>NaN</td>\n",
       "      <td>Essence</td>\n",
       "      <td>Agadir</td>\n",
       "      <td>28000.0</td>\n",
       "      <td>False</td>\n",
       "      <td>250000.0</td>\n",
       "      <td>299999.0</td>\n",
       "    </tr>\n",
       "    <tr>\n",
       "      <th>4</th>\n",
       "      <td>2008</td>\n",
       "      <td>BMW</td>\n",
       "      <td>X5</td>\n",
       "      <td>18.0</td>\n",
       "      <td>bourgogne</td>\n",
       "      <td>Essence</td>\n",
       "      <td>Casablanca</td>\n",
       "      <td>129000.0</td>\n",
       "      <td>True</td>\n",
       "      <td>100000.0</td>\n",
       "      <td>109999.0</td>\n",
       "    </tr>\n",
       "  </tbody>\n",
       "</table>\n",
       "</div>"
      ],
      "text/plain": [
       "  annéeModèle         Marque    Modèle  puissFisacale       Secteur  \\\n",
       "0        2006            Kia   Sorento            9.0     ain_sebaa   \n",
       "1        2018  Mercedes-Benz  Classe E            8.0  derb_ghallef   \n",
       "2        2015  Mercedes-Benz  Classe E            8.0           NaN   \n",
       "3        2002           Fiat       Uno            5.0           NaN   \n",
       "4        2008            BMW        X5           18.0     bourgogne   \n",
       "\n",
       "  typeCarburant       ville      prix    pro   kiloMin   kiloMax  \n",
       "0        Diesel  Casablanca   75000.0   True  180000.0  189999.0  \n",
       "1        Diesel  Casablanca       NaN   True   35000.0   39999.0  \n",
       "2        Diesel         Fès  300000.0  False  140000.0  149999.0  \n",
       "3       Essence      Agadir   28000.0  False  250000.0  299999.0  \n",
       "4       Essence  Casablanca  129000.0   True  100000.0  109999.0  "
      ]
     },
     "execution_count": 254,
     "metadata": {},
     "output_type": "execute_result"
    }
   ],
   "source": [
    "df.head()"
   ]
  },
  {
   "cell_type": "code",
   "execution_count": 255,
   "metadata": {},
   "outputs": [
    {
     "data": {
      "text/plain": [
       "2310"
      ]
     },
     "execution_count": 255,
     "metadata": {},
     "output_type": "execute_result"
    }
   ],
   "source": [
    "df[\"prix\"].isnull().sum()"
   ]
  },
  {
   "cell_type": "code",
   "execution_count": null,
   "metadata": {},
   "outputs": [],
   "source": []
  }
 ],
 "metadata": {
  "kernelspec": {
   "display_name": "Python 3",
   "language": "python",
   "name": "python3"
  },
  "language_info": {
   "codemirror_mode": {
    "name": "ipython",
    "version": 3
   },
   "file_extension": ".py",
   "mimetype": "text/x-python",
   "name": "python",
   "nbconvert_exporter": "python",
   "pygments_lexer": "ipython3",
   "version": "3.6.4"
  }
 },
 "nbformat": 4,
 "nbformat_minor": 2
}
